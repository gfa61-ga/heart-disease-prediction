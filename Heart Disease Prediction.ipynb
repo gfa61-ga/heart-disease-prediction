{
 "cells": [
  {
   "cell_type": "code",
   "execution_count": 10,
   "metadata": {},
   "outputs": [],
   "source": [
    "import os\n",
    "import pandas as pd\n",
    "import glob"
   ]
  },
  {
   "cell_type": "markdown",
   "metadata": {},
   "source": [
    "### Load Data from UCI Machine Learning Repository:"
   ]
  },
  {
   "cell_type": "code",
   "execution_count": 35,
   "metadata": {},
   "outputs": [
    {
     "name": "stdout",
     "output_type": "stream",
     "text": [
      "data Directory Created \n"
     ]
    },
    {
     "name": "stderr",
     "output_type": "stream",
     "text": [
      "--2020-01-09 19:50:14--  http://archive.ics.uci.edu/ml/machine-learning-databases/heart-disease/processed.cleveland.data\n",
      "Resolving archive.ics.uci.edu (archive.ics.uci.edu)... 128.195.10.252\n",
      "Connecting to archive.ics.uci.edu (archive.ics.uci.edu)|128.195.10.252|:80... connected.\n",
      "HTTP request sent, awaiting response... 200 OK\n",
      "Length: 18461 (18K) [application/x-httpd-php]\n",
      "Saving to: 'data/processed.cleveland.data.csv'\n",
      "\n",
      "     0K .......... ........                                   100% 87.0K=0.2s\n",
      "\n",
      "2020-01-09 19:50:15 (87.0 KB/s) - 'data/processed.cleveland.data.csv' saved [18461/18461]\n",
      "\n",
      "--2020-01-09 19:50:15--  http://archive.ics.uci.edu/ml/machine-learning-databases/heart-disease/reprocessed.hungarian.data\n",
      "Resolving archive.ics.uci.edu (archive.ics.uci.edu)... 128.195.10.252\n",
      "Connecting to archive.ics.uci.edu (archive.ics.uci.edu)|128.195.10.252|:80... connected.\n",
      "HTTP request sent, awaiting response... 200 OK\n",
      "Length: 11058 (11K) [application/x-httpd-php]\n",
      "Saving to: 'data/processed.hungarian.data.data.csv'\n",
      "\n",
      "     0K ..........                                            100%  770K=0.01s\n",
      "\n",
      "2020-01-09 19:50:15 (770 KB/s) - 'data/processed.hungarian.data.data.csv' saved [11058/11058]\n",
      "\n",
      "--2020-01-09 19:50:16--  http://archive.ics.uci.edu/ml/machine-learning-databases/heart-disease/processed.switzerland.data\n",
      "Resolving archive.ics.uci.edu (archive.ics.uci.edu)... 128.195.10.252\n",
      "Connecting to archive.ics.uci.edu (archive.ics.uci.edu)|128.195.10.252|:80... connected.\n",
      "HTTP request sent, awaiting response... 200 OK\n",
      "Length: 4109 (4.0K) [application/x-httpd-php]\n",
      "Saving to: 'data/processed.switzerland.data.csv'\n",
      "\n",
      "     0K ....                                                  100%  404K=0.01s\n",
      "\n",
      "2020-01-09 19:50:16 (404 KB/s) - 'data/processed.switzerland.data.csv' saved [4109/4109]\n",
      "\n",
      "--2020-01-09 19:50:16--  http://archive.ics.uci.edu/ml/machine-learning-databases/heart-disease/processed.va.data\n",
      "Resolving archive.ics.uci.edu (archive.ics.uci.edu)... 128.195.10.252\n",
      "Connecting to archive.ics.uci.edu (archive.ics.uci.edu)|128.195.10.252|:80... connected.\n",
      "HTTP request sent, awaiting response... 200 OK\n",
      "Length: 6737 (6.6K) [application/x-httpd-php]\n",
      "Saving to: 'data/processed.va.data.csv'\n",
      "\n",
      "     0K ......                                                100%  727K=0.009s\n",
      "\n",
      "2020-01-09 19:50:17 (727 KB/s) - 'data/processed.va.data.csv' saved [6737/6737]\n",
      "\n",
      "--2020-01-09 19:50:17--  http://archive.ics.uci.edu/ml/machine-learning-databases/heart-disease/heart-disease.names\n",
      "Resolving archive.ics.uci.edu (archive.ics.uci.edu)... 128.195.10.252\n",
      "Connecting to archive.ics.uci.edu (archive.ics.uci.edu)|128.195.10.252|:80... connected.\n",
      "HTTP request sent, awaiting response... 200 OK\n",
      "Length: 10060 (9.8K) [application/x-httpd-php]\n",
      "Saving to: 'data/heart-disease.names.csv'\n",
      "\n",
      "     0K .........                                             100%  811K=0.01s\n",
      "\n",
      "2020-01-09 19:50:17 (811 KB/s) - 'data/heart-disease.names.csv' saved [10060/10060]\n",
      "\n"
     ]
    }
   ],
   "source": [
    "# only have to run once\n",
    "\n",
    "try:\n",
    "    # Create data Directory\n",
    "    os.mkdir('data')\n",
    "    print(\"data Directory Created \") \n",
    "except FileExistsError:\n",
    "    print(\"data Directory already exists\")\n",
    "\n",
    "\n",
    "!wget -O data/processed.cleveland.data.csv http://archive.ics.uci.edu/ml/machine-learning-databases/heart-disease/processed.cleveland.data\n",
    "!wget -O data/processed.hungarian.data.data.csv http://archive.ics.uci.edu/ml/machine-learning-databases/heart-disease/reprocessed.hungarian.data\n",
    "!wget -O data/processed.switzerland.data.csv http://archive.ics.uci.edu/ml/machine-learning-databases/heart-disease/processed.switzerland.data\n",
    "!wget -O data/processed.va.data.csv http://archive.ics.uci.edu/ml/machine-learning-databases/heart-disease/processed.va.data\n",
    "!wget -O data/heart-disease.names.csv http://archive.ics.uci.edu/ml/machine-learning-databases/heart-disease/heart-disease.names\n",
    "                "
   ]
  },
  {
   "cell_type": "markdown",
   "metadata": {},
   "source": [
    "### Concatenate 4 datasets to one:"
   ]
  },
  {
   "cell_type": "code",
   "execution_count": 36,
   "metadata": {},
   "outputs": [],
   "source": [
    "allFiles = glob.glob('data' + '/*.data.csv')\n",
    "\n",
    "heart_disease_df = pd.DataFrame()\n",
    "list_ = []\n",
    "\n",
    "col_names = ['age', 'sex', 'cp', 'trestbps', 'chol', 'fbs', 'restecg', 'thalach', 'exang', 'oldpeak', 'slope', 'ca', 'thal', 'num']\n",
    "\n",
    "for file_ in allFiles:\n",
    "    df = pd.read_csv(file_,index_col=None, names=col_names)\n",
    "    list_.append(df)\n",
    "heart_disease_df = pd.concat(list_, sort=False, ignore_index=True)"
   ]
  },
  {
   "cell_type": "code",
   "execution_count": 37,
   "metadata": {},
   "outputs": [
    {
     "name": "stdout",
     "output_type": "stream",
     "text": [
      "    age  sex   cp trestbps chol fbs restecg thalach exang oldpeak slope   ca  \\\n",
      "0    63  1.0  1.0      145  233   1       2     150     0     2.3     3  0.0   \n",
      "1    67  1.0  4.0      160  286   0       2     108     1     1.5     2  3.0   \n",
      "2    67  1.0  4.0      120  229   0       2     129     1     2.6     2  2.0   \n",
      "3    37  1.0  3.0      130  250   0       0     187     0     3.5     3  0.0   \n",
      "4    41  0.0  2.0      130  204   0       2     172     0     1.4     1  0.0   \n",
      "..   ..  ...  ...      ...  ...  ..     ...     ...   ...     ...   ...  ...   \n",
      "915  54  0.0  4.0      127  333   1       1     154     0       0     ?    ?   \n",
      "916  62  1.0  1.0        ?  139   0       1       ?     ?       ?     ?    ?   \n",
      "917  55  1.0  4.0      122  223   1       1     100     0       0     ?    ?   \n",
      "918  58  1.0  4.0        ?  385   1       2       ?     ?       ?     ?    ?   \n",
      "919  62  1.0  2.0      120  254   0       2      93     1       0     ?    ?   \n",
      "\n",
      "    thal  num  \n",
      "0    6.0  0.0  \n",
      "1    3.0  2.0  \n",
      "2    7.0  1.0  \n",
      "3    3.0  0.0  \n",
      "4    3.0  0.0  \n",
      "..   ...  ...  \n",
      "915    ?  1.0  \n",
      "916    ?  0.0  \n",
      "917    6  2.0  \n",
      "918    ?  0.0  \n",
      "919    ?  1.0  \n",
      "\n",
      "[920 rows x 14 columns]\n"
     ]
    }
   ],
   "source": [
    "print(heart_disease_df)"
   ]
  }
 ],
 "metadata": {
  "kernelspec": {
   "display_name": "Python 3",
   "language": "python",
   "name": "python3"
  },
  "language_info": {
   "codemirror_mode": {
    "name": "ipython",
    "version": 3
   },
   "file_extension": ".py",
   "mimetype": "text/x-python",
   "name": "python",
   "nbconvert_exporter": "python",
   "pygments_lexer": "ipython3",
   "version": "3.7.4"
  }
 },
 "nbformat": 4,
 "nbformat_minor": 2
}
